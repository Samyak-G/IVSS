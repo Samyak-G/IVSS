{
 "cells": [
  {
   "cell_type": "code",
   "execution_count": 4,
   "id": "a17a8f4c",
   "metadata": {},
   "outputs": [],
   "source": [
    "import shutil\n",
    "from pathlib import Path\n",
    "import pathspec\n",
    "\n",
    "# Paths\n",
    "source_dir = Path(\".\")  # replace with your source directory\n",
    "dest_dir = Path(\"../destination2\")  # replace with your destination directory\n",
    "\n",
    "# Load .gitignore\n",
    "gitignore_path = source_dir / \".gitignore\"\n",
    "with gitignore_path.open() as f:\n",
    "    ignore_patterns = f.read().splitlines()\n",
    "spec = pathspec.PathSpec.from_lines(\"gitwildmatch\", ignore_patterns)\n",
    "\n",
    "# Iterate and copy non-ignored files\n",
    "for path in source_dir.rglob(\"*\"):\n",
    "    relative_path = path.relative_to(source_dir)\n",
    "    if not spec.match_file(str(relative_path)):\n",
    "        target_path = dest_dir / relative_path\n",
    "        if path.is_dir():\n",
    "            target_path.mkdir(parents=True, exist_ok=True)\n",
    "        else:\n",
    "            target_path.parent.mkdir(parents=True, exist_ok=True)\n",
    "            shutil.copy2(path, target_path)\n"
   ]
  },
  {
   "cell_type": "code",
   "execution_count": null,
   "id": "8817f617",
   "metadata": {},
   "outputs": [],
   "source": []
  }
 ],
 "metadata": {
  "kernelspec": {
   "display_name": "env",
   "language": "python",
   "name": "python3"
  },
  "language_info": {
   "codemirror_mode": {
    "name": "ipython",
    "version": 3
   },
   "file_extension": ".py",
   "mimetype": "text/x-python",
   "name": "python",
   "nbconvert_exporter": "python",
   "pygments_lexer": "ipython3",
   "version": "3.13.3"
  }
 },
 "nbformat": 4,
 "nbformat_minor": 5
}
